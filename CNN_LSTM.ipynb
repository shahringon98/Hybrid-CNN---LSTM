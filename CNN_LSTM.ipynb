{
  "nbformat": 4,
  "nbformat_minor": 0,
  "metadata": {
    "colab": {
      "provenance": [],
      "authorship_tag": "ABX9TyNfOoTSsVGLQarvUdjT7igx",
      "include_colab_link": true
    },
    "kernelspec": {
      "name": "python3",
      "display_name": "Python 3"
    },
    "language_info": {
      "name": "python"
    }
  },
  "cells": [
    {
      "cell_type": "markdown",
      "metadata": {
        "id": "view-in-github",
        "colab_type": "text"
      },
      "source": [
        "<a href=\"https://colab.research.google.com/github/shahringon98/Hybrid-CNN---LSTM/blob/main/CNN_LSTM.ipynb\" target=\"_parent\"><img src=\"https://colab.research.google.com/assets/colab-badge.svg\" alt=\"Open In Colab\"/></a>"
      ]
    },
    {
      "cell_type": "code",
      "execution_count": null,
      "metadata": {
        "id": "KiUszamVcG1E"
      },
      "outputs": [],
      "source": [
        "import pandas as pd\n",
        "import numpy as np\n",
        "import matplotlib.pyplot as plt\n",
        "from sklearn.preprocessing import MinMaxScaler\n",
        "from sklearn.model_selection import train_test_split\n",
        "from tensorflow.keras.models import Sequential\n",
        "from tensorflow.keras.layers import Conv1D, LSTM, Dense\n",
        "from sklearn.metrics import mean_squared_error, mean_absolute_error\n",
        "from math import sqrt\n",
        "\n",
        "# Load and normalize data\n",
        "df = pd.read_csv('CNN11V.csv', parse_dates=['date'])\n",
        "df.set_index('date', inplace=True)\n",
        "scaler = MinMaxScaler()\n",
        "df_normalized = pd.DataFrame(scaler.fit_transform(df), columns=df.columns, index=df.index)\n",
        "\n",
        "# Function to create segments\n",
        "def create_dataset(X, y, time_steps=1):\n",
        "    Xs, ys = [], []\n",
        "    for i in range(len(X) - time_steps):\n",
        "        v = X.iloc[i:(i + time_steps)].values\n",
        "        Xs.append(v)\n",
        "        ys.append(y.iloc[i + time_steps])\n",
        "    return np.array(Xs), np.array(ys)\n",
        "\n",
        "results_df = pd.DataFrame(columns=['IVs', 'RMSE', 'MAE', 'MAPE', 'sMAPE'])\n",
        "features = [Nubers of Variables]\n",
        "\n",
        "# Iterate over different combinations of IVs\n",
        "for idx in range(1, len(features) + 1):\n",
        "    iv_name = ', '.join(features[:idx])\n",
        "\n",
        "    # Create segments from the normalized data\n",
        "    TIME_STEPS = 10\n",
        "    X, y = create_dataset(df_normalized[features[:idx]], df_normalized['Y'], TIME_STEPS)\n",
        "    X_train, X_test, y_train, y_test = train_test_split(X, y, test_size=0.2, random_state=42, shuffle=False)\n",
        "\n",
        "    # Define the hybrid CNN+LSTM model\n",
        "    model = Sequential()\n",
        "    model.add(Conv1D(filters=64, kernel_size=3, activation='relu', input_shape=(X_train.shape[1], X_train.shape[2])))\n",
        "    model.add(Conv1D(filters=32, kernel_size=3, activation='relu'))\n",
        "    model.add(LSTM(50, activation='relu'))\n",
        "    model.add(Dense(1))\n",
        "    model.compile(optimizer='adam', loss='mse')\n",
        "\n",
        "    # Train the model\n",
        "    model.fit(X_train, y_train, epochs=10, batch_size=32, validation_split=0.1, verbose=0)\n",
        "\n",
        "    # Generate predictions for the training set\n",
        "    y_train_pred = model.predict(X_train)\n",
        "\n",
        "    # Inverse scale the predictions and actual values\n",
        "    y_train_actual = scaler.inverse_transform(np.concatenate([df_normalized.iloc[TIME_STEPS:len(X_train)+TIME_STEPS, :-1], y_train.reshape(-1, 1)], axis=1))[:, -1]\n",
        "    y_train_pred_rescaled = scaler.inverse_transform(np.concatenate([df_normalized.iloc[TIME_STEPS:len(X_train)+TIME_STEPS, :-1], y_train_pred], axis=1))[:, -1]\n",
        "\n",
        "    # Evaluation metrics\n",
        "    rmse = sqrt(mean_squared_error(y_train_actual, y_train_pred_rescaled))\n",
        "    mae = mean_absolute_error(y_train_actual, y_train_pred_rescaled)\n",
        "    mape = np.mean(np.abs((y_train_actual - y_train_pred_rescaled) / y_train_actual)) * 100\n",
        "    smape = 2.0 * np.mean(np.abs(y_train_actual - y_train_pred_rescaled) / (np.abs(y_train_actual) + np.abs(y_train_pred_rescaled)))\n",
        "\n",
        "    results_df = results_df.append({\n",
        "        'IVs': iv_name,\n",
        "        'RMSE': rmse,\n",
        "        'MAE': mae,\n",
        "        'MAPE': mape,\n",
        "        'sMAPE': smape\n",
        "    }, ignore_index=True)\n",
        "\n",
        "    # Plot the predictions vs actual values for the training set\n",
        "    plt.figure(figsize=(12, 6))\n",
        "    plt.plot(y_train_actual, label='True Values', color='blue')\n",
        "    plt.plot(y_train_pred_rescaled, label='Predictions', color='red', linestyle='dashed')\n",
        "    plt.legend()\n",
        "    plt.title(f'Multivariate Forecasting using IVs: {iv_name}')\n",
        "    plt.show()\n",
        "\n",
        "print(results_df)\n"
      ]
    }
  ]
}
